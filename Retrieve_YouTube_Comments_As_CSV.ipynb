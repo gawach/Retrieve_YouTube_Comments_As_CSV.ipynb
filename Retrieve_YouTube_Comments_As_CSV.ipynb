# ------------------------------------------------------------------
# -*- coding: utf-8 -*-

# Sample Python code for youtube.commentThreads.list
# See instructions for running these code samples locally:
# https://developers.google.com/explorer-help/code-samples#python

import os
import googleapiclient.discovery

# ーーーーーーーーーーーーーーーーーーーーーーーーーーーーーーーーー
!pip install --upgrade -q gspread

import datetime

from google.colab import auth
auth.authenticate_user()

import gspread
from google.auth import default

creds,_ = default()
gc = gspread.authorize(creds)

# ------------------------------------------------------------------
# YouTube DATA API "CommentThreads"

def main():
    # Disable OAuthlib's HTTPS verification when running locally.
    # *DO NOT* leave this option enabled in production.
    os.environ["OAUTHLIB_INSECURE_TRANSPORT"] = "1"

    api_service_name = "youtube"
    api_version = "v3"
    DEVELOPER_KEY = "[YOUTUBE_API_KEY]"
    VIDEO_ID = "[VIDEO_ID]"

    youtube = googleapiclient.discovery.build(
        api_service_name, api_version, developerKey = DEVELOPER_KEY)

    call_api_count_comment_threads = 0
    call_api_count_comments = 0

    data = [
        ['videoId']+
        ['textDisplay']+
        ['textOriginal']+
        ['authorDisplayName']+
        ['authorProfileImageUrl']+
        ['authorChannelUrl']+
        ['authorChannelId']+
        ['canRate']+
        ['viewerRating']+
        ['likeCount']+
        ['publishedAt']+
        ['updatedAt']
    ]

    comment_threads_nextPageToken = ''
    comments_nextPageToken        = ''

    while True:
        request = youtube.commentThreads().list(
            part              = "id, replies, snippet"
            ,moderationStatus = "published"
            ,order            = "time"
            ,maxResults       = 100
            ,pageToken        = comment_threads_nextPageToken
            ,textFormat       = "plainText"
            ,videoId          = VIDEO_ID
        )
        comment_threads = request.execute()
        call_api_count_comment_threads += 1
        
        for item in comment_threads['items']:
            # debug:データ追加内容
            print(item)
            # スレッド追加
            data.append(
                [str(item['snippet']['topLevelComment']['snippet']['videoId'])]+
                [str(item['snippet']['topLevelComment']['snippet']['textDisplay'].replace('\n', ''))]+
                [str(item['snippet']['topLevelComment']['snippet']['textOriginal'])]+
                [str(item['snippet']['topLevelComment']['snippet']['authorDisplayName'])]+
                [str(item['snippet']['topLevelComment']['snippet']['authorProfileImageUrl'])]+
                [str(item['snippet']['topLevelComment']['snippet']['authorChannelUrl'])]+
                [str(item['snippet']['topLevelComment']['snippet']['authorChannelId']['value'])]+
                [str(item['snippet']['topLevelComment']['snippet']['canRate'])]+
                [str(item['snippet']['topLevelComment']['snippet']['viewerRating'])]+
                [str(item['snippet']['topLevelComment']['snippet']['likeCount'])]+
                [str(item['snippet']['topLevelComment']['snippet']['publishedAt'])]+
                [str(item['snippet']['topLevelComment']['snippet']['updatedAt'])]
            )
    
            # リプライ0件 → スルー
            replies_count  = item['snippet']['totalReplyCount']
            if replies_count == 0:
                continue
            # 1件以上
            else:
                replies_length = len(item['replies']['comments'])
                # 実際の取得件数と一致してる？
                #if replies_count == replies_length:
                if replies_count != replies_length:
                    # YES → そのまま追加
                    for reply in item['replies']['comments']:
                      # debug:データ追加内容
                      print(reply)
                      # データ追加 
                      data.append(
                          [str(reply['snippet']['videoId'])]+
                          [str(reply['snippet']['textDisplay'].replace('\n', ''))]+
                          [str(reply['snippet']['textOriginal'])]+
                          [str(reply['snippet']['authorDisplayName'])]+
                          [str(reply['snippet']['authorProfileImageUrl'])]+
                          [str(reply['snippet']['authorChannelUrl'])]+
                          [str(reply['snippet']['authorChannelId']['value'])]+
                          [str(reply['snippet']['canRate'])]+
                          [str(reply['snippet']['viewerRating'])]+
                          [str(reply['snippet']['likeCount'])]+
                          [str(reply['snippet']['publishedAt'])]+
                          [str(reply['snippet']['updatedAt'])]
                      )
                else:
                    # NO → 再取得・追加
                    request = youtube.comments().list(
                        part        = "id, snippet"
                        ,maxResults = 100
                        #,maxResults = 1
                        ,pageToken  = comments_nextPageToken
                        ,parentId   = item['snippet']['topLevelComment']['id']
                        ,textFormat = "plainText"
                    )
                    comments = request.execute()
                    call_api_count_comments += 1

                    # リプライ追加
                    for reply in comments['items']:
                        # debug:データ追加内容
                        print(reply)
                        # データ追加
                        data.append(
                            #[str(reply['snippet']['videoId'])]+
                            ['none']+
                            [str(reply['snippet']['textDisplay'].replace('\n', ''))]+
                            [str(reply['snippet']['textOriginal'])]+
                            [str(reply['snippet']['authorDisplayName'])]+
                            [str(reply['snippet']['authorProfileImageUrl'])]+
                            [str(reply['snippet']['authorChannelUrl'])]+
                            [str(reply['snippet']['authorChannelId']['value'])]+
                            [str(reply['snippet']['canRate'])]+
                            [str(reply['snippet']['viewerRating'])]+
                            [str(reply['snippet']['likeCount'])]+
                            [str(reply['snippet']['publishedAt'])]+
                            [str(reply['snippet']['updatedAt'])]
                        )
                        # 次の取得対象：なし → 処理終了
                        if not comments.get('nextPageToken'):
                            # commentsトークン初期化
                            comments_nextPageToken = ''
                            break
                        # 次の取得対象：あり → トークン値更新
                        else:
                            comments_nextPageToken = comments.get('nextPageToken')
        # 次の取得対象：なし → 処理終了
        if not comment_threads.get('nextPageToken'):
            # comments_threadsトークン初期化
            comment_threads_nextPageToken = ''
            break
        # 次の取得対象：あり → トークン値更新
        else:
            comment_threads_nextPageToken = comment_threads.get('nextPageToken')

    print("call_api_count_comment_threads:"+str(call_api_count_comment_threads)+"件")
    print("call_api_count_comments:"+str(call_api_count_comments)+"件")
    print(data)
    return data


if __name__ == "__main__":
    data = main()
